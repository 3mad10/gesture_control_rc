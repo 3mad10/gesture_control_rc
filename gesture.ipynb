{
 "cells": [
  {
   "cell_type": "code",
   "execution_count": 33,
   "metadata": {},
   "outputs": [],
   "source": [
    "import cv2\n",
    "import numpy as np\n",
    "import handLandmarkMP as hlm\n",
    "import time\n",
    "import math\n",
    "from blunet import connect, send"
   ]
  },
  {
   "cell_type": "code",
   "execution_count": 34,
   "metadata": {},
   "outputs": [],
   "source": [
    "hands = hlm.HandDetector()"
   ]
  },
  {
   "cell_type": "code",
   "execution_count": 35,
   "metadata": {},
   "outputs": [],
   "source": [
    "def line(p1, p2):\n",
    "    A = (p1[1] - p2[1])\n",
    "    B = (p2[0] - p1[0])\n",
    "    C = (p1[0]*p2[1] - p2[0]*p1[1])\n",
    "    return A, B, -C\n",
    "\n",
    "def intersection(L1, L2):\n",
    "    D  = L1[0] * L2[1] - L1[1] * L2[0]\n",
    "    Dx = L1[2] * L2[1] - L1[1] * L2[2]\n",
    "    Dy = L1[0] * L2[2] - L1[2] * L2[0]\n",
    "    if D != 0:\n",
    "        x = int(Dx / D)\n",
    "        y = int(Dy / D)\n",
    "        return x,y\n",
    "    else:\n",
    "        return False"
   ]
  },
  {
   "cell_type": "code",
   "execution_count": null,
   "metadata": {},
   "outputs": [],
   "source": [
    "connection = connect(\"HC-05\", \"1234\")"
   ]
  },
  {
   "cell_type": "code",
   "execution_count": 59,
   "metadata": {
    "scrolled": true
   },
   "outputs": [
    {
     "name": "stdout",
     "output_type": "stream",
     "text": [
      "angle sent 5\n",
      "angle sent 5\n",
      "angle sent 6\n",
      "angle sent 7\n",
      "angle sent 7\n",
      "angle sent 8\n",
      "angle sent 8\n",
      "angle sent 7\n",
      "angle sent 7\n",
      "angle sent 6\n",
      "angle sent 5\n",
      "angle sent 5\n",
      "angle sent 4\n",
      "angle sent 4\n",
      "angle sent 3\n",
      "angle sent 2\n",
      "angle sent 2\n",
      "angle sent 1\n",
      "angle sent 1\n",
      "angle sent 1\n",
      "angle sent 2\n",
      "angle sent 3\n",
      "angle sent 4\n",
      "angle sent 5\n",
      "angle sent 6\n",
      "angle sent 7\n",
      "angle sent 7\n",
      "angle sent 8\n"
     ]
    }
   ],
   "source": [
    "cap = cv2.VideoCapture(0)\n",
    "success, img = cap.read()\n",
    "ref_p1 = np.array((0, img.shape[0]-30))\n",
    "ref_p2 = np.array((img.shape[1], img.shape[0]-30))\n",
    "intersection_point = (ref_p1 + ref_p2) // 2\n",
    "R_before = 0\n",
    "R = 0\n",
    "angle_before = 90\n",
    "while cap.isOpened():\n",
    "    success, img = cap.read()\n",
    "    img = cv2.flip(img, 1)\n",
    "    if not success:\n",
    "        print(\"Ignoring empty camera frame.\")\n",
    "        # If loading a video, use 'break' instead of 'continue'.\n",
    "        continue\n",
    "    connection.send(str(angle_before // 2))\n",
    "    img = hands.findHands(img)\n",
    "    hands_positions = hands.findPositions(img)\n",
    "    \n",
    "    if hands_positions:\n",
    "        #middle = np.array(hands_positions['hand1']['middle'][0])\n",
    "        \n",
    "        wrist = np.array(hands_positions['hand1']['wrist'])\n",
    "        img = cv2.circle(img, wrist, 0, (255, 255, 255), 10)\n",
    "        \n",
    "        \n",
    "        #img = cv2.circle(img, middle, 0, (255, 255, 255), 10)\n",
    "        #img = cv2.line(img, middle, wrist, (0, 0, 0), 2)\n",
    "        vertical_dist = intersection_point[1] - wrist[1]\n",
    "        horizontal_dist = intersection_point[0] - wrist[0]\n",
    "        hyp = int(np.sqrt((vertical_dist)**2 + (horizontal_dist)**2))\n",
    "        #print(f\"hyp = {hyp}\")\n",
    "        #print(f\"vertical_dist = {vertical_dist}\")\n",
    "        #print(f\"wrist = {wrist}\")\n",
    "        \n",
    "        angle = int(math.degrees(np.arccos(horizontal_dist / hyp)))\n",
    "        if angle not in range(angle_before-10,angle_before+10):\n",
    "            print(f\"angle sent {str(angle // (2 * 10))}\")\n",
    "            connection.send(str(angle // 2))\n",
    "            angle_before = angle\n",
    "        \n",
    "        img = cv2.line(img, ref_p1, ref_p2, (0, 0, 0), 2)\n",
    "        img = cv2.circle(img, intersection_point, 0, (0, 0, 255), 10)\n",
    "        \n",
    "    \n",
    "    #L1 = line(middle, wrist)\n",
    "    #L2 = line(ref_p1, ref_p2)\n",
    "    #R = intersection(L1, L2)\n",
    "    #if(np.all(np.isclose(R,R_before,atol = 30))):\n",
    "    #R = R_before\n",
    "    \n",
    "    img = cv2.line(img, intersection_point, wrist, (255, 255, 255), 2)\n",
    "    R_before = R\n",
    "    cv2.imshow(\"Image\", img)\n",
    "    if cv2.waitKey(25) & 0xFF == ord('q'):\n",
    "        break\n",
    "cap.release()\n",
    "cv2.destroyAllWindows()"
   ]
  },
  {
   "cell_type": "code",
   "execution_count": 20,
   "metadata": {},
   "outputs": [
    {
     "name": "stdout",
     "output_type": "stream",
     "text": [
      "Bluetooth module found\n",
      "Connected Successfully\n"
     ]
    }
   ],
   "source": [
    "connection = connect(\"HC-05\", \"1234\")"
   ]
  },
  {
   "cell_type": "code",
   "execution_count": null,
   "metadata": {},
   "outputs": [],
   "source": []
  }
 ],
 "metadata": {
  "kernelspec": {
   "display_name": "Python 3",
   "language": "python",
   "name": "python3"
  },
  "language_info": {
   "codemirror_mode": {
    "name": "ipython",
    "version": 3
   },
   "file_extension": ".py",
   "mimetype": "text/x-python",
   "name": "python",
   "nbconvert_exporter": "python",
   "pygments_lexer": "ipython3",
   "version": "3.8.5"
  }
 },
 "nbformat": 4,
 "nbformat_minor": 4
}
