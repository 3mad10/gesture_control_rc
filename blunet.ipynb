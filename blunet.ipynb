{
 "cells": [
  {
   "cell_type": "markdown",
   "metadata": {},
   "source": [
    "## Bluetooth connection module"
   ]
  },
  {
   "cell_type": "code",
   "execution_count": 160,
   "metadata": {},
   "outputs": [],
   "source": [
    "\"\"\"\n",
    "import necessary liberaries\n",
    "\"\"\"\n",
    "import bluetooth, subprocess"
   ]
  },
  {
   "cell_type": "code",
   "execution_count": 158,
   "metadata": {},
   "outputs": [],
   "source": [
    "\"\"\"\n",
    "Get the address of a given name if found\n",
    "\"\"\"\n",
    "def get_address(check_name):\n",
    "    nearby_devices = bluetooth.discover_devices(lookup_names=True, flush_cache = True)\n",
    "    for addr, name in nearby_devices:\n",
    "        #print(\"  {} - {}\".format(addr, name))\n",
    "        if(name == check_name):\n",
    "            print(\"Bluetooth module found\")\n",
    "            return addr\n",
    "    return False"
   ]
  },
  {
   "cell_type": "code",
   "execution_count": 159,
   "metadata": {
    "scrolled": false
   },
   "outputs": [],
   "source": [
    "\"\"\"\n",
    "Function that takes the name of the bluetooth module to connect to and its password\n",
    "and returns a connection object\n",
    "\"\"\"\n",
    "def connect(name, passkey):\n",
    "    addr = get_address(name)\n",
    "    port = 1         # RFCOMM port\n",
    "    \n",
    "    # kill any \"bluetooth-agent\" process that is already running\n",
    "    subprocess.call(\"kill -9 `pidof bluetooth-agent`\",shell=True)\n",
    "\n",
    "    # Start a new \"bluetooth-agent\" process where XXXX is the passkey\n",
    "    status = subprocess.call(\"bluetooth-agent \" + passkey + \" &\",shell=True)\n",
    "\n",
    "    # Now, connect in the same way as always with PyBlueZ\n",
    "    try:\n",
    "        s = bluetooth.BluetoothSocket(bluetooth.RFCOMM)\n",
    "        s.connect((addr,port))\n",
    "        print(\"Connected Successfully\")\n",
    "        return s\n",
    "    except bluetooth.btcommon.BluetoothError as err:\n",
    "        # Error handler\n",
    "        print(\"Cant connect to bluetooth module\")"
   ]
  },
  {
   "cell_type": "code",
   "execution_count": 155,
   "metadata": {},
   "outputs": [],
   "source": [
    "\"\"\"\n",
    "Function that takes a connection object and data to send to the bluetooth module and an optional buffer size\n",
    "\"\"\"\n",
    "def send(conn, data, buffer = 1024):\n",
    "    conn.recv(buffer)\n",
    "    conn.send(data)"
   ]
  },
  {
   "cell_type": "code",
   "execution_count": null,
   "metadata": {},
   "outputs": [],
   "source": []
  }
 ],
 "metadata": {
  "kernelspec": {
   "display_name": "Python 3",
   "language": "python",
   "name": "python3"
  },
  "language_info": {
   "codemirror_mode": {
    "name": "ipython",
    "version": 3
   },
   "file_extension": ".py",
   "mimetype": "text/x-python",
   "name": "python",
   "nbconvert_exporter": "python",
   "pygments_lexer": "ipython3",
   "version": "3.8.5"
  }
 },
 "nbformat": 4,
 "nbformat_minor": 4
}
